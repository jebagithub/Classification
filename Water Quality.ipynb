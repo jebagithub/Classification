{
 "cells": [
  {
   "cell_type": "code",
   "execution_count": 1,
   "metadata": {},
   "outputs": [],
   "source": [
    "#import libraries\n",
    "import pandas as pd\n",
    "import numpy as np\n",
    "import matplotlib.pyplot as plt\n",
    "import seaborn as sns\n",
    "%matplotlib inline"
   ]
  },
  {
   "cell_type": "code",
   "execution_count": 61,
   "metadata": {},
   "outputs": [],
   "source": [
    "# Read the input file\n",
    "water_chars = pd.read_csv('water_potability.csv')"
   ]
  },
  {
   "cell_type": "code",
   "execution_count": 62,
   "metadata": {},
   "outputs": [
    {
     "name": "stdout",
     "output_type": "stream",
     "text": [
      "<class 'pandas.core.frame.DataFrame'>\n",
      "RangeIndex: 3276 entries, 0 to 3275\n",
      "Data columns (total 10 columns):\n",
      " #   Column           Non-Null Count  Dtype  \n",
      "---  ------           --------------  -----  \n",
      " 0   ph               2785 non-null   float64\n",
      " 1   Hardness         3276 non-null   float64\n",
      " 2   Solids           3276 non-null   float64\n",
      " 3   Chloramines      3276 non-null   float64\n",
      " 4   Sulfate          2495 non-null   float64\n",
      " 5   Conductivity     3276 non-null   float64\n",
      " 6   Organic_carbon   3276 non-null   float64\n",
      " 7   Trihalomethanes  3114 non-null   float64\n",
      " 8   Turbidity        3276 non-null   float64\n",
      " 9   Potability       3276 non-null   int64  \n",
      "dtypes: float64(9), int64(1)\n",
      "memory usage: 256.1 KB\n"
     ]
    }
   ],
   "source": [
    "# Check the input file for any missing values and other characteristics as required\n",
    "water_chars.info()"
   ]
  },
  {
   "cell_type": "code",
   "execution_count": 63,
   "metadata": {},
   "outputs": [
    {
     "data": {
      "text/html": [
       "<div>\n",
       "<style scoped>\n",
       "    .dataframe tbody tr th:only-of-type {\n",
       "        vertical-align: middle;\n",
       "    }\n",
       "\n",
       "    .dataframe tbody tr th {\n",
       "        vertical-align: top;\n",
       "    }\n",
       "\n",
       "    .dataframe thead th {\n",
       "        text-align: right;\n",
       "    }\n",
       "</style>\n",
       "<table border=\"1\" class=\"dataframe\">\n",
       "  <thead>\n",
       "    <tr style=\"text-align: right;\">\n",
       "      <th></th>\n",
       "      <th>ph</th>\n",
       "      <th>Hardness</th>\n",
       "      <th>Solids</th>\n",
       "      <th>Chloramines</th>\n",
       "      <th>Sulfate</th>\n",
       "      <th>Conductivity</th>\n",
       "      <th>Organic_carbon</th>\n",
       "      <th>Trihalomethanes</th>\n",
       "      <th>Turbidity</th>\n",
       "      <th>Potability</th>\n",
       "    </tr>\n",
       "  </thead>\n",
       "  <tbody>\n",
       "    <tr>\n",
       "      <th>count</th>\n",
       "      <td>2785.000000</td>\n",
       "      <td>3276.000000</td>\n",
       "      <td>3276.000000</td>\n",
       "      <td>3276.000000</td>\n",
       "      <td>2495.000000</td>\n",
       "      <td>3276.000000</td>\n",
       "      <td>3276.000000</td>\n",
       "      <td>3114.000000</td>\n",
       "      <td>3276.000000</td>\n",
       "      <td>3276.000000</td>\n",
       "    </tr>\n",
       "    <tr>\n",
       "      <th>mean</th>\n",
       "      <td>7.080795</td>\n",
       "      <td>196.369496</td>\n",
       "      <td>22014.092526</td>\n",
       "      <td>7.122277</td>\n",
       "      <td>333.775777</td>\n",
       "      <td>426.205111</td>\n",
       "      <td>14.284970</td>\n",
       "      <td>66.396293</td>\n",
       "      <td>3.966786</td>\n",
       "      <td>0.390110</td>\n",
       "    </tr>\n",
       "    <tr>\n",
       "      <th>std</th>\n",
       "      <td>1.594320</td>\n",
       "      <td>32.879761</td>\n",
       "      <td>8768.570828</td>\n",
       "      <td>1.583085</td>\n",
       "      <td>41.416840</td>\n",
       "      <td>80.824064</td>\n",
       "      <td>3.308162</td>\n",
       "      <td>16.175008</td>\n",
       "      <td>0.780382</td>\n",
       "      <td>0.487849</td>\n",
       "    </tr>\n",
       "    <tr>\n",
       "      <th>min</th>\n",
       "      <td>0.000000</td>\n",
       "      <td>47.432000</td>\n",
       "      <td>320.942611</td>\n",
       "      <td>0.352000</td>\n",
       "      <td>129.000000</td>\n",
       "      <td>181.483754</td>\n",
       "      <td>2.200000</td>\n",
       "      <td>0.738000</td>\n",
       "      <td>1.450000</td>\n",
       "      <td>0.000000</td>\n",
       "    </tr>\n",
       "    <tr>\n",
       "      <th>25%</th>\n",
       "      <td>6.093092</td>\n",
       "      <td>176.850538</td>\n",
       "      <td>15666.690297</td>\n",
       "      <td>6.127421</td>\n",
       "      <td>307.699498</td>\n",
       "      <td>365.734414</td>\n",
       "      <td>12.065801</td>\n",
       "      <td>55.844536</td>\n",
       "      <td>3.439711</td>\n",
       "      <td>0.000000</td>\n",
       "    </tr>\n",
       "    <tr>\n",
       "      <th>50%</th>\n",
       "      <td>7.036752</td>\n",
       "      <td>196.967627</td>\n",
       "      <td>20927.833607</td>\n",
       "      <td>7.130299</td>\n",
       "      <td>333.073546</td>\n",
       "      <td>421.884968</td>\n",
       "      <td>14.218338</td>\n",
       "      <td>66.622485</td>\n",
       "      <td>3.955028</td>\n",
       "      <td>0.000000</td>\n",
       "    </tr>\n",
       "    <tr>\n",
       "      <th>75%</th>\n",
       "      <td>8.062066</td>\n",
       "      <td>216.667456</td>\n",
       "      <td>27332.762127</td>\n",
       "      <td>8.114887</td>\n",
       "      <td>359.950170</td>\n",
       "      <td>481.792304</td>\n",
       "      <td>16.557652</td>\n",
       "      <td>77.337473</td>\n",
       "      <td>4.500320</td>\n",
       "      <td>1.000000</td>\n",
       "    </tr>\n",
       "    <tr>\n",
       "      <th>max</th>\n",
       "      <td>14.000000</td>\n",
       "      <td>323.124000</td>\n",
       "      <td>61227.196008</td>\n",
       "      <td>13.127000</td>\n",
       "      <td>481.030642</td>\n",
       "      <td>753.342620</td>\n",
       "      <td>28.300000</td>\n",
       "      <td>124.000000</td>\n",
       "      <td>6.739000</td>\n",
       "      <td>1.000000</td>\n",
       "    </tr>\n",
       "  </tbody>\n",
       "</table>\n",
       "</div>"
      ],
      "text/plain": [
       "                ph     Hardness        Solids  Chloramines      Sulfate  \\\n",
       "count  2785.000000  3276.000000   3276.000000  3276.000000  2495.000000   \n",
       "mean      7.080795   196.369496  22014.092526     7.122277   333.775777   \n",
       "std       1.594320    32.879761   8768.570828     1.583085    41.416840   \n",
       "min       0.000000    47.432000    320.942611     0.352000   129.000000   \n",
       "25%       6.093092   176.850538  15666.690297     6.127421   307.699498   \n",
       "50%       7.036752   196.967627  20927.833607     7.130299   333.073546   \n",
       "75%       8.062066   216.667456  27332.762127     8.114887   359.950170   \n",
       "max      14.000000   323.124000  61227.196008    13.127000   481.030642   \n",
       "\n",
       "       Conductivity  Organic_carbon  Trihalomethanes    Turbidity   Potability  \n",
       "count   3276.000000     3276.000000      3114.000000  3276.000000  3276.000000  \n",
       "mean     426.205111       14.284970        66.396293     3.966786     0.390110  \n",
       "std       80.824064        3.308162        16.175008     0.780382     0.487849  \n",
       "min      181.483754        2.200000         0.738000     1.450000     0.000000  \n",
       "25%      365.734414       12.065801        55.844536     3.439711     0.000000  \n",
       "50%      421.884968       14.218338        66.622485     3.955028     0.000000  \n",
       "75%      481.792304       16.557652        77.337473     4.500320     1.000000  \n",
       "max      753.342620       28.300000       124.000000     6.739000     1.000000  "
      ]
     },
     "execution_count": 63,
     "metadata": {},
     "output_type": "execute_result"
    }
   ],
   "source": [
    "water_chars.describe()"
   ]
  },
  {
   "cell_type": "code",
   "execution_count": 64,
   "metadata": {},
   "outputs": [
    {
     "data": {
      "text/plain": [
       "ph                 491\n",
       "Hardness             0\n",
       "Solids               0\n",
       "Chloramines          0\n",
       "Sulfate            781\n",
       "Conductivity         0\n",
       "Organic_carbon       0\n",
       "Trihalomethanes    162\n",
       "Turbidity            0\n",
       "Potability           0\n",
       "dtype: int64"
      ]
     },
     "execution_count": 64,
     "metadata": {},
     "output_type": "execute_result"
    }
   ],
   "source": [
    "water_chars.isnull().sum()"
   ]
  },
  {
   "cell_type": "code",
   "execution_count": 65,
   "metadata": {},
   "outputs": [
    {
     "data": {
      "text/html": [
       "<div>\n",
       "<style scoped>\n",
       "    .dataframe tbody tr th:only-of-type {\n",
       "        vertical-align: middle;\n",
       "    }\n",
       "\n",
       "    .dataframe tbody tr th {\n",
       "        vertical-align: top;\n",
       "    }\n",
       "\n",
       "    .dataframe thead th {\n",
       "        text-align: right;\n",
       "    }\n",
       "</style>\n",
       "<table border=\"1\" class=\"dataframe\">\n",
       "  <thead>\n",
       "    <tr style=\"text-align: right;\">\n",
       "      <th></th>\n",
       "      <th>ph</th>\n",
       "      <th>Hardness</th>\n",
       "      <th>Solids</th>\n",
       "      <th>Chloramines</th>\n",
       "      <th>Sulfate</th>\n",
       "      <th>Conductivity</th>\n",
       "      <th>Organic_carbon</th>\n",
       "      <th>Trihalomethanes</th>\n",
       "      <th>Turbidity</th>\n",
       "      <th>Potability</th>\n",
       "    </tr>\n",
       "  </thead>\n",
       "  <tbody>\n",
       "    <tr>\n",
       "      <th>0</th>\n",
       "      <td>NaN</td>\n",
       "      <td>204.890455</td>\n",
       "      <td>20791.318981</td>\n",
       "      <td>7.300212</td>\n",
       "      <td>368.516441</td>\n",
       "      <td>564.308654</td>\n",
       "      <td>10.379783</td>\n",
       "      <td>86.990970</td>\n",
       "      <td>2.963135</td>\n",
       "      <td>0</td>\n",
       "    </tr>\n",
       "    <tr>\n",
       "      <th>1</th>\n",
       "      <td>3.716080</td>\n",
       "      <td>129.422921</td>\n",
       "      <td>18630.057858</td>\n",
       "      <td>6.635246</td>\n",
       "      <td>NaN</td>\n",
       "      <td>592.885359</td>\n",
       "      <td>15.180013</td>\n",
       "      <td>56.329076</td>\n",
       "      <td>4.500656</td>\n",
       "      <td>0</td>\n",
       "    </tr>\n",
       "    <tr>\n",
       "      <th>2</th>\n",
       "      <td>8.099124</td>\n",
       "      <td>224.236259</td>\n",
       "      <td>19909.541732</td>\n",
       "      <td>9.275884</td>\n",
       "      <td>NaN</td>\n",
       "      <td>418.606213</td>\n",
       "      <td>16.868637</td>\n",
       "      <td>66.420093</td>\n",
       "      <td>3.055934</td>\n",
       "      <td>0</td>\n",
       "    </tr>\n",
       "    <tr>\n",
       "      <th>3</th>\n",
       "      <td>8.316766</td>\n",
       "      <td>214.373394</td>\n",
       "      <td>22018.417441</td>\n",
       "      <td>8.059332</td>\n",
       "      <td>356.886136</td>\n",
       "      <td>363.266516</td>\n",
       "      <td>18.436524</td>\n",
       "      <td>100.341674</td>\n",
       "      <td>4.628771</td>\n",
       "      <td>0</td>\n",
       "    </tr>\n",
       "    <tr>\n",
       "      <th>4</th>\n",
       "      <td>9.092223</td>\n",
       "      <td>181.101509</td>\n",
       "      <td>17978.986339</td>\n",
       "      <td>6.546600</td>\n",
       "      <td>310.135738</td>\n",
       "      <td>398.410813</td>\n",
       "      <td>11.558279</td>\n",
       "      <td>31.997993</td>\n",
       "      <td>4.075075</td>\n",
       "      <td>0</td>\n",
       "    </tr>\n",
       "  </tbody>\n",
       "</table>\n",
       "</div>"
      ],
      "text/plain": [
       "         ph    Hardness        Solids  Chloramines     Sulfate  Conductivity  \\\n",
       "0       NaN  204.890455  20791.318981     7.300212  368.516441    564.308654   \n",
       "1  3.716080  129.422921  18630.057858     6.635246         NaN    592.885359   \n",
       "2  8.099124  224.236259  19909.541732     9.275884         NaN    418.606213   \n",
       "3  8.316766  214.373394  22018.417441     8.059332  356.886136    363.266516   \n",
       "4  9.092223  181.101509  17978.986339     6.546600  310.135738    398.410813   \n",
       "\n",
       "   Organic_carbon  Trihalomethanes  Turbidity  Potability  \n",
       "0       10.379783        86.990970   2.963135           0  \n",
       "1       15.180013        56.329076   4.500656           0  \n",
       "2       16.868637        66.420093   3.055934           0  \n",
       "3       18.436524       100.341674   4.628771           0  \n",
       "4       11.558279        31.997993   4.075075           0  "
      ]
     },
     "execution_count": 65,
     "metadata": {},
     "output_type": "execute_result"
    }
   ],
   "source": [
    "water_chars.head()"
   ]
  },
  {
   "cell_type": "code",
   "execution_count": 66,
   "metadata": {},
   "outputs": [],
   "source": [
    "#Take a backup\n",
    "water_param = water_chars.copy()"
   ]
  },
  {
   "cell_type": "code",
   "execution_count": 67,
   "metadata": {},
   "outputs": [],
   "source": [
    "#Assign X & Y\n",
    "X = water_chars.drop('Potability',axis=1)\n",
    "y = water_chars['Potability']"
   ]
  },
  {
   "cell_type": "code",
   "execution_count": 68,
   "metadata": {},
   "outputs": [],
   "source": [
    "# Split the data into Training and Test set\n",
    "from sklearn.model_selection import train_test_split\n",
    "X_train, X_test, y_train, y_test = train_test_split(X,y,test_size=0.2,random_state=42)"
   ]
  },
  {
   "cell_type": "code",
   "execution_count": 70,
   "metadata": {},
   "outputs": [
    {
     "data": {
      "text/plain": [
       "((2620, 9), (656, 9), (2620,), (656,))"
      ]
     },
     "execution_count": 70,
     "metadata": {},
     "output_type": "execute_result"
    }
   ],
   "source": [
    "X_train.shape, X_test.shape, y_train.shape, y_test.shape"
   ]
  },
  {
   "cell_type": "code",
   "execution_count": 71,
   "metadata": {},
   "outputs": [],
   "source": [
    "# Create a function to fill the missing values with median\n",
    "def fill_missing(data,train,miss_cols):\n",
    "    for col in range(0,len(miss_cols)):\n",
    "        median = train[miss_cols[col]].median()\n",
    "        data[miss_cols[col]].fillna(median,inplace=True)"
   ]
  },
  {
   "cell_type": "code",
   "execution_count": 75,
   "metadata": {},
   "outputs": [
    {
     "name": "stderr",
     "output_type": "stream",
     "text": [
      "C:\\Users\\mail2\\anaconda3\\lib\\site-packages\\pandas\\core\\series.py:4517: SettingWithCopyWarning: \n",
      "A value is trying to be set on a copy of a slice from a DataFrame\n",
      "\n",
      "See the caveats in the documentation: https://pandas.pydata.org/pandas-docs/stable/user_guide/indexing.html#returning-a-view-versus-a-copy\n",
      "  return super().fillna(\n"
     ]
    }
   ],
   "source": [
    "missing_cols_train = X_train.columns[X_train.isnull().any()].tolist()\n",
    "fill_missing(X_train,X_train,missing_cols_train)"
   ]
  },
  {
   "cell_type": "code",
   "execution_count": 99,
   "metadata": {},
   "outputs": [
    {
     "name": "stderr",
     "output_type": "stream",
     "text": [
      "C:\\Users\\mail2\\anaconda3\\lib\\site-packages\\pandas\\core\\series.py:4517: SettingWithCopyWarning: \n",
      "A value is trying to be set on a copy of a slice from a DataFrame\n",
      "\n",
      "See the caveats in the documentation: https://pandas.pydata.org/pandas-docs/stable/user_guide/indexing.html#returning-a-view-versus-a-copy\n",
      "  return super().fillna(\n"
     ]
    }
   ],
   "source": [
    "# Fill the missing value in X_test\n",
    "missing_cols_test = X_test.columns[X_test.isnull().any()].tolist()\n",
    "fill_missing(X_test,X_train,missing_cols_test)"
   ]
  },
  {
   "cell_type": "code",
   "execution_count": 109,
   "metadata": {},
   "outputs": [],
   "source": [
    "# get the correlation\n",
    "corr = water_chars.corr()"
   ]
  },
  {
   "cell_type": "code",
   "execution_count": 110,
   "metadata": {},
   "outputs": [
    {
     "data": {
      "text/plain": [
       "<AxesSubplot:>"
      ]
     },
     "execution_count": 110,
     "metadata": {},
     "output_type": "execute_result"
    },
    {
     "data": {
      "image/png": "[encoded data removed]",
      "text/plain": [
       "<Figure size 720x504 with 2 Axes>"
      ]
     },
     "metadata": {
      "needs_background": "light"
     },
     "output_type": "display_data"
    }
   ],
   "source": [
    "# Plot a heat map on the correlation\n",
    "plt.figure(figsize=(10,7))\n",
    "sns.heatmap(corr,annot=True)"
   ]
  },
  {
   "cell_type": "code",
   "execution_count": 114,
   "metadata": {
    "scrolled": true
   },
   "outputs": [
    {
     "data": {
      "text/plain": [
       "Potability         1.000000\n",
       "Solids             0.033743\n",
       "Chloramines        0.023779\n",
       "Trihalomethanes    0.007130\n",
       "Turbidity          0.001581\n",
       "ph                -0.003556\n",
       "Conductivity      -0.008128\n",
       "Hardness          -0.013837\n",
       "Sulfate           -0.023577\n",
       "Organic_carbon    -0.030001\n",
       "Name: Potability, dtype: float64"
      ]
     },
     "execution_count": 114,
     "metadata": {},
     "output_type": "execute_result"
    }
   ],
   "source": [
    "corr['Potability'].sort_values(ascending=False)"
   ]
  },
  {
   "cell_type": "code",
   "execution_count": 128,
   "metadata": {},
   "outputs": [
    {
     "data": {
      "text/plain": [
       "{'Logistic Regression': 0.6280487804878049,\n",
       " 'Random Forest': 0.676829268292683,\n",
       " 'Support Vector': 0.6280487804878049,\n",
       " 'Naive Bayes': 0.6280487804878049}"
      ]
     },
     "execution_count": 128,
     "metadata": {},
     "output_type": "execute_result"
    }
   ],
   "source": [
    "#Find the best model based on score\n",
    "from sklearn.linear_model import LogisticRegression\n",
    "from sklearn.ensemble import RandomForestClassifier\n",
    "from sklearn.svm import SVC\n",
    "from sklearn.naive_bayes import GaussianNB\n",
    "\n",
    "models = {\"Logistic Regression\": LogisticRegression(),\n",
    "          \"Random Forest\": RandomForestClassifier(n_estimators=100,min_samples_leaf=2,random_state=42),\n",
    "          \"Support Vector\": SVC(kernel='rbf'),\n",
    "          \"Naive Bayes\": GaussianNB()}\n",
    "\n",
    "model_score = {}\n",
    "for model_name, model in models.items():\n",
    "    model.fit(X_train,y_train)\n",
    "    model_score[model_name] = model.score(X_test,y_test)\n",
    "\n",
    "model_score"
   ]
  },
  {
   "cell_type": "code",
   "execution_count": 129,
   "metadata": {},
   "outputs": [],
   "source": [
    "# Let us do a feature scaling and see if that makes any difference"
   ]
  },
  {
   "cell_type": "code",
   "execution_count": 133,
   "metadata": {},
   "outputs": [],
   "source": [
    "from sklearn.preprocessing import StandardScaler\n",
    "\n",
    "scaler = StandardScaler()\n",
    "scaled_x_train = scaler.fit_transform(X_train)\n",
    "scaled_x_test = scaler.transform(X_test)"
   ]
  },
  {
   "cell_type": "code",
   "execution_count": 146,
   "metadata": {},
   "outputs": [
    {
     "data": {
      "text/plain": [
       "{'Logistic Regression': 0.6280487804878049,\n",
       " 'Random Forest': 0.6890243902439024,\n",
       " 'Support Vector': 0.6905487804878049,\n",
       " 'Naive Bayes': 0.6326219512195121,\n",
       " 'KNN': 0.6295731707317073}"
      ]
     },
     "execution_count": 146,
     "metadata": {},
     "output_type": "execute_result"
    }
   ],
   "source": [
    "#Find the best model based on score on the scaled training & test set\n",
    "from sklearn.linear_model import LogisticRegression\n",
    "from sklearn.ensemble import RandomForestClassifier\n",
    "from sklearn.svm import SVC\n",
    "from sklearn.naive_bayes import GaussianNB\n",
    "from sklearn.neighbors import KNeighborsClassifier\n",
    "\n",
    "models = {\"Logistic Regression\": LogisticRegression(),\n",
    "          \"Random Forest\": RandomForestClassifier(n_estimators=100,min_samples_leaf=2),\n",
    "          \"Support Vector\": SVC(kernel='rbf'),\n",
    "          \"Naive Bayes\": GaussianNB(),\n",
    "          \"KNN\": KNeighborsClassifier(n_neighbors=5)}\n",
    "\n",
    "model_score = {}\n",
    "for model_name, model in models.items():\n",
    "    model.fit(scaled_x_train,y_train)\n",
    "    model_score[model_name] = model.score(scaled_x_test,y_test)\n",
    "\n",
    "model_score"
   ]
  },
  {
   "cell_type": "code",
   "execution_count": 147,
   "metadata": {},
   "outputs": [
    {
     "data": {
      "text/plain": [
       "{'bootstrap': True,\n",
       " 'ccp_alpha': 0.0,\n",
       " 'class_weight': None,\n",
       " 'criterion': 'gini',\n",
       " 'max_depth': None,\n",
       " 'max_features': 'auto',\n",
       " 'max_leaf_nodes': None,\n",
       " 'max_samples': None,\n",
       " 'min_impurity_decrease': 0.0,\n",
       " 'min_impurity_split': None,\n",
       " 'min_samples_leaf': 1,\n",
       " 'min_samples_split': 2,\n",
       " 'min_weight_fraction_leaf': 0.0,\n",
       " 'n_estimators': 100,\n",
       " 'n_jobs': None,\n",
       " 'oob_score': False,\n",
       " 'random_state': None,\n",
       " 'verbose': 0,\n",
       " 'warm_start': False}"
      ]
     },
     "execution_count": 147,
     "metadata": {},
     "output_type": "execute_result"
    }
   ],
   "source": [
    "rand_clas = RandomForestClassifier()\n",
    "rand_clas.get_params()"
   ]
  },
  {
   "cell_type": "markdown",
   "metadata": {},
   "source": [
    "# Hyperparameter tuning for Random forest and Support vector"
   ]
  },
  {
   "cell_type": "code",
   "execution_count": 149,
   "metadata": {},
   "outputs": [
    {
     "name": "stdout",
     "output_type": "stream",
     "text": [
      "Fitting 5 folds for each of 24 candidates, totalling 120 fits\n",
      "[CV] criterion=gini, max_features=auto, min_samples_leaf=1, n_estimators=30 \n"
     ]
    },
    {
     "name": "stderr",
     "output_type": "stream",
     "text": [
      "[Parallel(n_jobs=1)]: Using backend SequentialBackend with 1 concurrent workers.\n"
     ]
    },
    {
     "name": "stdout",
     "output_type": "stream",
     "text": [
      "[CV]  criterion=gini, max_features=auto, min_samples_leaf=1, n_estimators=30, total=   0.2s\n",
      "[CV] criterion=gini, max_features=auto, min_samples_leaf=1, n_estimators=30 \n",
      "[CV]  criterion=gini, max_features=auto, min_samples_leaf=1, n_estimators=30, total=   0.2s\n",
      "[CV] criterion=gini, max_features=auto, min_samples_leaf=1, n_estimators=30 \n"
     ]
    },
    {
     "name": "stderr",
     "output_type": "stream",
     "text": [
      "[Parallel(n_jobs=1)]: Done   1 out of   1 | elapsed:    0.2s remaining:    0.0s\n"
     ]
    },
    {
     "name": "stdout",
     "output_type": "stream",
     "text": [
      "[CV]  criterion=gini, max_features=auto, min_samples_leaf=1, n_estimators=30, total=   0.2s\n",
      "[CV] criterion=gini, max_features=auto, min_samples_leaf=1, n_estimators=30 \n",
      "[CV]  criterion=gini, max_features=auto, min_samples_leaf=1, n_estimators=30, total=   0.2s\n",
      "[CV] criterion=gini, max_features=auto, min_samples_leaf=1, n_estimators=30 \n",
      "[CV]  criterion=gini, max_features=auto, min_samples_leaf=1, n_estimators=30, total=   0.2s\n",
      "[CV] criterion=gini, max_features=auto, min_samples_leaf=1, n_estimators=100 \n",
      "[CV]  criterion=gini, max_features=auto, min_samples_leaf=1, n_estimators=100, total=   0.6s\n",
      "[CV] criterion=gini, max_features=auto, min_samples_leaf=1, n_estimators=100 \n",
      "[CV]  criterion=gini, max_features=auto, min_samples_leaf=1, n_estimators=100, total=   0.6s\n",
      "[CV] criterion=gini, max_features=auto, min_samples_leaf=1, n_estimators=100 \n",
      "[CV]  criterion=gini, max_features=auto, min_samples_leaf=1, n_estimators=100, total=   0.5s\n",
      "[CV] criterion=gini, max_features=auto, min_samples_leaf=1, n_estimators=100 \n",
      "[CV]  criterion=gini, max_features=auto, min_samples_leaf=1, n_estimators=100, total=   0.6s\n",
      "[CV] criterion=gini, max_features=auto, min_samples_leaf=1, n_estimators=100 \n",
      "[CV]  criterion=gini, max_features=auto, min_samples_leaf=1, n_estimators=100, total=   0.5s\n",
      "[CV] criterion=gini, max_features=auto, min_samples_leaf=1, n_estimators=120 \n",
      "[CV]  criterion=gini, max_features=auto, min_samples_leaf=1, n_estimators=120, total=   0.7s\n",
      "[CV] criterion=gini, max_features=auto, min_samples_leaf=1, n_estimators=120 \n",
      "[CV]  criterion=gini, max_features=auto, min_samples_leaf=1, n_estimators=120, total=   0.6s\n",
      "[CV] criterion=gini, max_features=auto, min_samples_leaf=1, n_estimators=120 \n",
      "[CV]  criterion=gini, max_features=auto, min_samples_leaf=1, n_estimators=120, total=   0.6s\n",
      "[CV] criterion=gini, max_features=auto, min_samples_leaf=1, n_estimators=120 \n",
      "[CV]  criterion=gini, max_features=auto, min_samples_leaf=1, n_estimators=120, total=   0.6s\n",
      "[CV] criterion=gini, max_features=auto, min_samples_leaf=1, n_estimators=120 \n",
      "[CV]  criterion=gini, max_features=auto, min_samples_leaf=1, n_estimators=120, total=   0.6s\n",
      "[CV] criterion=gini, max_features=auto, min_samples_leaf=2, n_estimators=30 \n",
      "[CV]  criterion=gini, max_features=auto, min_samples_leaf=2, n_estimators=30, total=   0.2s\n",
      "[CV] criterion=gini, max_features=auto, min_samples_leaf=2, n_estimators=30 \n",
      "[CV]  criterion=gini, max_features=auto, min_samples_leaf=2, n_estimators=30, total=   0.2s\n",
      "[CV] criterion=gini, max_features=auto, min_samples_leaf=2, n_estimators=30 \n",
      "[CV]  criterion=gini, max_features=auto, min_samples_leaf=2, n_estimators=30, total=   0.2s\n",
      "[CV] criterion=gini, max_features=auto, min_samples_leaf=2, n_estimators=30 \n",
      "[CV]  criterion=gini, max_features=auto, min_samples_leaf=2, n_estimators=30, total=   0.2s\n",
      "[CV] criterion=gini, max_features=auto, min_samples_leaf=2, n_estimators=30 \n",
      "[CV]  criterion=gini, max_features=auto, min_samples_leaf=2, n_estimators=30, total=   0.2s\n",
      "[CV] criterion=gini, max_features=auto, min_samples_leaf=2, n_estimators=100 \n",
      "[CV]  criterion=gini, max_features=auto, min_samples_leaf=2, n_estimators=100, total=   0.5s\n",
      "[CV] criterion=gini, max_features=auto, min_samples_leaf=2, n_estimators=100 \n",
      "[CV]  criterion=gini, max_features=auto, min_samples_leaf=2, n_estimators=100, total=   0.5s\n",
      "[CV] criterion=gini, max_features=auto, min_samples_leaf=2, n_estimators=100 \n",
      "[CV]  criterion=gini, max_features=auto, min_samples_leaf=2, n_estimators=100, total=   0.5s\n",
      "[CV] criterion=gini, max_features=auto, min_samples_leaf=2, n_estimators=100 \n",
      "[CV]  criterion=gini, max_features=auto, min_samples_leaf=2, n_estimators=100, total=   0.5s\n",
      "[CV] criterion=gini, max_features=auto, min_samples_leaf=2, n_estimators=100 \n",
      "[CV]  criterion=gini, max_features=auto, min_samples_leaf=2, n_estimators=100, total=   0.5s\n",
      "[CV] criterion=gini, max_features=auto, min_samples_leaf=2, n_estimators=120 \n",
      "[CV]  criterion=gini, max_features=auto, min_samples_leaf=2, n_estimators=120, total=   0.6s\n",
      "[CV] criterion=gini, max_features=auto, min_samples_leaf=2, n_estimators=120 \n",
      "[CV]  criterion=gini, max_features=auto, min_samples_leaf=2, n_estimators=120, total=   0.6s\n",
      "[CV] criterion=gini, max_features=auto, min_samples_leaf=2, n_estimators=120 \n",
      "[CV]  criterion=gini, max_features=auto, min_samples_leaf=2, n_estimators=120, total=   0.6s\n",
      "[CV] criterion=gini, max_features=auto, min_samples_leaf=2, n_estimators=120 \n",
      "[CV]  criterion=gini, max_features=auto, min_samples_leaf=2, n_estimators=120, total=   0.6s\n",
      "[CV] criterion=gini, max_features=auto, min_samples_leaf=2, n_estimators=120 \n",
      "[CV]  criterion=gini, max_features=auto, min_samples_leaf=2, n_estimators=120, total=   0.6s\n",
      "[CV] criterion=gini, max_features=sqrt, min_samples_leaf=1, n_estimators=30 \n",
      "[CV]  criterion=gini, max_features=sqrt, min_samples_leaf=1, n_estimators=30, total=   0.2s\n",
      "[CV] criterion=gini, max_features=sqrt, min_samples_leaf=1, n_estimators=30 \n",
      "[CV]  criterion=gini, max_features=sqrt, min_samples_leaf=1, n_estimators=30, total=   0.2s\n",
      "[CV] criterion=gini, max_features=sqrt, min_samples_leaf=1, n_estimators=30 \n",
      "[CV]  criterion=gini, max_features=sqrt, min_samples_leaf=1, n_estimators=30, total=   0.2s\n",
      "[CV] criterion=gini, max_features=sqrt, min_samples_leaf=1, n_estimators=30 \n",
      "[CV]  criterion=gini, max_features=sqrt, min_samples_leaf=1, n_estimators=30, total=   0.2s\n",
      "[CV] criterion=gini, max_features=sqrt, min_samples_leaf=1, n_estimators=30 \n",
      "[CV]  criterion=gini, max_features=sqrt, min_samples_leaf=1, n_estimators=30, total=   0.2s\n",
      "[CV] criterion=gini, max_features=sqrt, min_samples_leaf=1, n_estimators=100 \n",
      "[CV]  criterion=gini, max_features=sqrt, min_samples_leaf=1, n_estimators=100, total=   0.5s\n",
      "[CV] criterion=gini, max_features=sqrt, min_samples_leaf=1, n_estimators=100 \n",
      "[CV]  criterion=gini, max_features=sqrt, min_samples_leaf=1, n_estimators=100, total=   0.5s\n",
      "[CV] criterion=gini, max_features=sqrt, min_samples_leaf=1, n_estimators=100 \n",
      "[CV]  criterion=gini, max_features=sqrt, min_samples_leaf=1, n_estimators=100, total=   0.5s\n",
      "[CV] criterion=gini, max_features=sqrt, min_samples_leaf=1, n_estimators=100 \n",
      "[CV]  criterion=gini, max_features=sqrt, min_samples_leaf=1, n_estimators=100, total=   0.5s\n",
      "[CV] criterion=gini, max_features=sqrt, min_samples_leaf=1, n_estimators=100 \n",
      "[CV]  criterion=gini, max_features=sqrt, min_samples_leaf=1, n_estimators=100, total=   0.5s\n",
      "[CV] criterion=gini, max_features=sqrt, min_samples_leaf=1, n_estimators=120 \n",
      "[CV]  criterion=gini, max_features=sqrt, min_samples_leaf=1, n_estimators=120, total=   0.7s\n",
      "[CV] criterion=gini, max_features=sqrt, min_samples_leaf=1, n_estimators=120 \n",
      "[CV]  criterion=gini, max_features=sqrt, min_samples_leaf=1, n_estimators=120, total=   0.6s\n",
      "[CV] criterion=gini, max_features=sqrt, min_samples_leaf=1, n_estimators=120 \n",
      "[CV]  criterion=gini, max_features=sqrt, min_samples_leaf=1, n_estimators=120, total=   0.6s\n",
      "[CV] criterion=gini, max_features=sqrt, min_samples_leaf=1, n_estimators=120 \n",
      "[CV]  criterion=gini, max_features=sqrt, min_samples_leaf=1, n_estimators=120, total=   0.6s\n",
      "[CV] criterion=gini, max_features=sqrt, min_samples_leaf=1, n_estimators=120 \n",
      "[CV]  criterion=gini, max_features=sqrt, min_samples_leaf=1, n_estimators=120, total=   0.6s\n",
      "[CV] criterion=gini, max_features=sqrt, min_samples_leaf=2, n_estimators=30 \n",
      "[CV]  criterion=gini, max_features=sqrt, min_samples_leaf=2, n_estimators=30, total=   0.2s\n",
      "[CV] criterion=gini, max_features=sqrt, min_samples_leaf=2, n_estimators=30 \n",
      "[CV]  criterion=gini, max_features=sqrt, min_samples_leaf=2, n_estimators=30, total=   0.2s\n",
      "[CV] criterion=gini, max_features=sqrt, min_samples_leaf=2, n_estimators=30 \n",
      "[CV]  criterion=gini, max_features=sqrt, min_samples_leaf=2, n_estimators=30, total=   0.2s\n",
      "[CV] criterion=gini, max_features=sqrt, min_samples_leaf=2, n_estimators=30 \n",
      "[CV]  criterion=gini, max_features=sqrt, min_samples_leaf=2, n_estimators=30, total=   0.2s\n",
      "[CV] criterion=gini, max_features=sqrt, min_samples_leaf=2, n_estimators=30 \n",
      "[CV]  criterion=gini, max_features=sqrt, min_samples_leaf=2, n_estimators=30, total=   0.2s\n",
      "[CV] criterion=gini, max_features=sqrt, min_samples_leaf=2, n_estimators=100 \n",
      "[CV]  criterion=gini, max_features=sqrt, min_samples_leaf=2, n_estimators=100, total=   0.5s\n",
      "[CV] criterion=gini, max_features=sqrt, min_samples_leaf=2, n_estimators=100 \n"
     ]
    },
    {
     "name": "stdout",
     "output_type": "stream",
     "text": [
      "[CV]  criterion=gini, max_features=sqrt, min_samples_leaf=2, n_estimators=100, total=   0.5s\n",
      "[CV] criterion=gini, max_features=sqrt, min_samples_leaf=2, n_estimators=100 \n",
      "[CV]  criterion=gini, max_features=sqrt, min_samples_leaf=2, n_estimators=100, total=   0.5s\n",
      "[CV] criterion=gini, max_features=sqrt, min_samples_leaf=2, n_estimators=100 \n",
      "[CV]  criterion=gini, max_features=sqrt, min_samples_leaf=2, n_estimators=100, total=   0.5s\n",
      "[CV] criterion=gini, max_features=sqrt, min_samples_leaf=2, n_estimators=100 \n",
      "[CV]  criterion=gini, max_features=sqrt, min_samples_leaf=2, n_estimators=100, total=   0.5s\n",
      "[CV] criterion=gini, max_features=sqrt, min_samples_leaf=2, n_estimators=120 \n",
      "[CV]  criterion=gini, max_features=sqrt, min_samples_leaf=2, n_estimators=120, total=   0.6s\n",
      "[CV] criterion=gini, max_features=sqrt, min_samples_leaf=2, n_estimators=120 \n",
      "[CV]  criterion=gini, max_features=sqrt, min_samples_leaf=2, n_estimators=120, total=   0.6s\n",
      "[CV] criterion=gini, max_features=sqrt, min_samples_leaf=2, n_estimators=120 \n",
      "[CV]  criterion=gini, max_features=sqrt, min_samples_leaf=2, n_estimators=120, total=   0.6s\n",
      "[CV] criterion=gini, max_features=sqrt, min_samples_leaf=2, n_estimators=120 \n",
      "[CV]  criterion=gini, max_features=sqrt, min_samples_leaf=2, n_estimators=120, total=   0.6s\n",
      "[CV] criterion=gini, max_features=sqrt, min_samples_leaf=2, n_estimators=120 \n",
      "[CV]  criterion=gini, max_features=sqrt, min_samples_leaf=2, n_estimators=120, total=   0.7s\n",
      "[CV] criterion=entropy, max_features=auto, min_samples_leaf=1, n_estimators=30 \n",
      "[CV]  criterion=entropy, max_features=auto, min_samples_leaf=1, n_estimators=30, total=   0.3s\n",
      "[CV] criterion=entropy, max_features=auto, min_samples_leaf=1, n_estimators=30 \n",
      "[CV]  criterion=entropy, max_features=auto, min_samples_leaf=1, n_estimators=30, total=   0.3s\n",
      "[CV] criterion=entropy, max_features=auto, min_samples_leaf=1, n_estimators=30 \n",
      "[CV]  criterion=entropy, max_features=auto, min_samples_leaf=1, n_estimators=30, total=   0.3s\n",
      "[CV] criterion=entropy, max_features=auto, min_samples_leaf=1, n_estimators=30 \n",
      "[CV]  criterion=entropy, max_features=auto, min_samples_leaf=1, n_estimators=30, total=   0.3s\n",
      "[CV] criterion=entropy, max_features=auto, min_samples_leaf=1, n_estimators=30 \n",
      "[CV]  criterion=entropy, max_features=auto, min_samples_leaf=1, n_estimators=30, total=   0.3s\n",
      "[CV] criterion=entropy, max_features=auto, min_samples_leaf=1, n_estimators=100 \n",
      "[CV]  criterion=entropy, max_features=auto, min_samples_leaf=1, n_estimators=100, total=   0.9s\n",
      "[CV] criterion=entropy, max_features=auto, min_samples_leaf=1, n_estimators=100 \n",
      "[CV]  criterion=entropy, max_features=auto, min_samples_leaf=1, n_estimators=100, total=   0.8s\n",
      "[CV] criterion=entropy, max_features=auto, min_samples_leaf=1, n_estimators=100 \n",
      "[CV]  criterion=entropy, max_features=auto, min_samples_leaf=1, n_estimators=100, total=   0.8s\n",
      "[CV] criterion=entropy, max_features=auto, min_samples_leaf=1, n_estimators=100 \n",
      "[CV]  criterion=entropy, max_features=auto, min_samples_leaf=1, n_estimators=100, total=   0.8s\n",
      "[CV] criterion=entropy, max_features=auto, min_samples_leaf=1, n_estimators=100 \n",
      "[CV]  criterion=entropy, max_features=auto, min_samples_leaf=1, n_estimators=100, total=   0.9s\n",
      "[CV] criterion=entropy, max_features=auto, min_samples_leaf=1, n_estimators=120 \n",
      "[CV]  criterion=entropy, max_features=auto, min_samples_leaf=1, n_estimators=120, total=   1.1s\n",
      "[CV] criterion=entropy, max_features=auto, min_samples_leaf=1, n_estimators=120 \n",
      "[CV]  criterion=entropy, max_features=auto, min_samples_leaf=1, n_estimators=120, total=   1.0s\n",
      "[CV] criterion=entropy, max_features=auto, min_samples_leaf=1, n_estimators=120 \n",
      "[CV]  criterion=entropy, max_features=auto, min_samples_leaf=1, n_estimators=120, total=   1.0s\n",
      "[CV] criterion=entropy, max_features=auto, min_samples_leaf=1, n_estimators=120 \n",
      "[CV]  criterion=entropy, max_features=auto, min_samples_leaf=1, n_estimators=120, total=   1.0s\n",
      "[CV] criterion=entropy, max_features=auto, min_samples_leaf=1, n_estimators=120 \n",
      "[CV]  criterion=entropy, max_features=auto, min_samples_leaf=1, n_estimators=120, total=   1.0s\n",
      "[CV] criterion=entropy, max_features=auto, min_samples_leaf=2, n_estimators=30 \n",
      "[CV]  criterion=entropy, max_features=auto, min_samples_leaf=2, n_estimators=30, total=   0.3s\n",
      "[CV] criterion=entropy, max_features=auto, min_samples_leaf=2, n_estimators=30 \n",
      "[CV]  criterion=entropy, max_features=auto, min_samples_leaf=2, n_estimators=30, total=   0.3s\n",
      "[CV] criterion=entropy, max_features=auto, min_samples_leaf=2, n_estimators=30 \n",
      "[CV]  criterion=entropy, max_features=auto, min_samples_leaf=2, n_estimators=30, total=   0.3s\n",
      "[CV] criterion=entropy, max_features=auto, min_samples_leaf=2, n_estimators=30 \n",
      "[CV]  criterion=entropy, max_features=auto, min_samples_leaf=2, n_estimators=30, total=   0.3s\n",
      "[CV] criterion=entropy, max_features=auto, min_samples_leaf=2, n_estimators=30 \n",
      "[CV]  criterion=entropy, max_features=auto, min_samples_leaf=2, n_estimators=30, total=   0.3s\n",
      "[CV] criterion=entropy, max_features=auto, min_samples_leaf=2, n_estimators=100 \n",
      "[CV]  criterion=entropy, max_features=auto, min_samples_leaf=2, n_estimators=100, total=   0.9s\n",
      "[CV] criterion=entropy, max_features=auto, min_samples_leaf=2, n_estimators=100 \n",
      "[CV]  criterion=entropy, max_features=auto, min_samples_leaf=2, n_estimators=100, total=   0.8s\n",
      "[CV] criterion=entropy, max_features=auto, min_samples_leaf=2, n_estimators=100 \n",
      "[CV]  criterion=entropy, max_features=auto, min_samples_leaf=2, n_estimators=100, total=   0.9s\n",
      "[CV] criterion=entropy, max_features=auto, min_samples_leaf=2, n_estimators=100 \n",
      "[CV]  criterion=entropy, max_features=auto, min_samples_leaf=2, n_estimators=100, total=   0.8s\n",
      "[CV] criterion=entropy, max_features=auto, min_samples_leaf=2, n_estimators=100 \n",
      "[CV]  criterion=entropy, max_features=auto, min_samples_leaf=2, n_estimators=100, total=   0.8s\n",
      "[CV] criterion=entropy, max_features=auto, min_samples_leaf=2, n_estimators=120 \n",
      "[CV]  criterion=entropy, max_features=auto, min_samples_leaf=2, n_estimators=120, total=   1.0s\n",
      "[CV] criterion=entropy, max_features=auto, min_samples_leaf=2, n_estimators=120 \n",
      "[CV]  criterion=entropy, max_features=auto, min_samples_leaf=2, n_estimators=120, total=   0.9s\n",
      "[CV] criterion=entropy, max_features=auto, min_samples_leaf=2, n_estimators=120 \n",
      "[CV]  criterion=entropy, max_features=auto, min_samples_leaf=2, n_estimators=120, total=   1.1s\n",
      "[CV] criterion=entropy, max_features=auto, min_samples_leaf=2, n_estimators=120 \n",
      "[CV]  criterion=entropy, max_features=auto, min_samples_leaf=2, n_estimators=120, total=   0.9s\n",
      "[CV] criterion=entropy, max_features=auto, min_samples_leaf=2, n_estimators=120 \n",
      "[CV]  criterion=entropy, max_features=auto, min_samples_leaf=2, n_estimators=120, total=   1.0s\n",
      "[CV] criterion=entropy, max_features=sqrt, min_samples_leaf=1, n_estimators=30 \n",
      "[CV]  criterion=entropy, max_features=sqrt, min_samples_leaf=1, n_estimators=30, total=   0.3s\n",
      "[CV] criterion=entropy, max_features=sqrt, min_samples_leaf=1, n_estimators=30 \n",
      "[CV]  criterion=entropy, max_features=sqrt, min_samples_leaf=1, n_estimators=30, total=   0.2s\n",
      "[CV] criterion=entropy, max_features=sqrt, min_samples_leaf=1, n_estimators=30 \n",
      "[CV]  criterion=entropy, max_features=sqrt, min_samples_leaf=1, n_estimators=30, total=   0.3s\n",
      "[CV] criterion=entropy, max_features=sqrt, min_samples_leaf=1, n_estimators=30 \n",
      "[CV]  criterion=entropy, max_features=sqrt, min_samples_leaf=1, n_estimators=30, total=   0.2s\n",
      "[CV] criterion=entropy, max_features=sqrt, min_samples_leaf=1, n_estimators=30 \n",
      "[CV]  criterion=entropy, max_features=sqrt, min_samples_leaf=1, n_estimators=30, total=   0.3s\n",
      "[CV] criterion=entropy, max_features=sqrt, min_samples_leaf=1, n_estimators=100 \n",
      "[CV]  criterion=entropy, max_features=sqrt, min_samples_leaf=1, n_estimators=100, total=   0.9s\n",
      "[CV] criterion=entropy, max_features=sqrt, min_samples_leaf=1, n_estimators=100 \n",
      "[CV]  criterion=entropy, max_features=sqrt, min_samples_leaf=1, n_estimators=100, total=   0.8s\n",
      "[CV] criterion=entropy, max_features=sqrt, min_samples_leaf=1, n_estimators=100 \n",
      "[CV]  criterion=entropy, max_features=sqrt, min_samples_leaf=1, n_estimators=100, total=   0.8s\n",
      "[CV] criterion=entropy, max_features=sqrt, min_samples_leaf=1, n_estimators=100 \n"
     ]
    },
    {
     "name": "stdout",
     "output_type": "stream",
     "text": [
      "[CV]  criterion=entropy, max_features=sqrt, min_samples_leaf=1, n_estimators=100, total=   0.8s\n",
      "[CV] criterion=entropy, max_features=sqrt, min_samples_leaf=1, n_estimators=100 \n",
      "[CV]  criterion=entropy, max_features=sqrt, min_samples_leaf=1, n_estimators=100, total=   0.8s\n",
      "[CV] criterion=entropy, max_features=sqrt, min_samples_leaf=1, n_estimators=120 \n",
      "[CV]  criterion=entropy, max_features=sqrt, min_samples_leaf=1, n_estimators=120, total=   1.0s\n",
      "[CV] criterion=entropy, max_features=sqrt, min_samples_leaf=1, n_estimators=120 \n",
      "[CV]  criterion=entropy, max_features=sqrt, min_samples_leaf=1, n_estimators=120, total=   1.0s\n",
      "[CV] criterion=entropy, max_features=sqrt, min_samples_leaf=1, n_estimators=120 \n",
      "[CV]  criterion=entropy, max_features=sqrt, min_samples_leaf=1, n_estimators=120, total=   1.0s\n",
      "[CV] criterion=entropy, max_features=sqrt, min_samples_leaf=1, n_estimators=120 \n",
      "[CV]  criterion=entropy, max_features=sqrt, min_samples_leaf=1, n_estimators=120, total=   1.0s\n",
      "[CV] criterion=entropy, max_features=sqrt, min_samples_leaf=1, n_estimators=120 \n",
      "[CV]  criterion=entropy, max_features=sqrt, min_samples_leaf=1, n_estimators=120, total=   1.0s\n",
      "[CV] criterion=entropy, max_features=sqrt, min_samples_leaf=2, n_estimators=30 \n",
      "[CV]  criterion=entropy, max_features=sqrt, min_samples_leaf=2, n_estimators=30, total=   0.3s\n",
      "[CV] criterion=entropy, max_features=sqrt, min_samples_leaf=2, n_estimators=30 \n",
      "[CV]  criterion=entropy, max_features=sqrt, min_samples_leaf=2, n_estimators=30, total=   0.2s\n",
      "[CV] criterion=entropy, max_features=sqrt, min_samples_leaf=2, n_estimators=30 \n",
      "[CV]  criterion=entropy, max_features=sqrt, min_samples_leaf=2, n_estimators=30, total=   0.2s\n",
      "[CV] criterion=entropy, max_features=sqrt, min_samples_leaf=2, n_estimators=30 \n",
      "[CV]  criterion=entropy, max_features=sqrt, min_samples_leaf=2, n_estimators=30, total=   0.2s\n",
      "[CV] criterion=entropy, max_features=sqrt, min_samples_leaf=2, n_estimators=30 \n",
      "[CV]  criterion=entropy, max_features=sqrt, min_samples_leaf=2, n_estimators=30, total=   0.2s\n",
      "[CV] criterion=entropy, max_features=sqrt, min_samples_leaf=2, n_estimators=100 \n",
      "[CV]  criterion=entropy, max_features=sqrt, min_samples_leaf=2, n_estimators=100, total=   0.8s\n",
      "[CV] criterion=entropy, max_features=sqrt, min_samples_leaf=2, n_estimators=100 \n",
      "[CV]  criterion=entropy, max_features=sqrt, min_samples_leaf=2, n_estimators=100, total=   0.8s\n",
      "[CV] criterion=entropy, max_features=sqrt, min_samples_leaf=2, n_estimators=100 \n",
      "[CV]  criterion=entropy, max_features=sqrt, min_samples_leaf=2, n_estimators=100, total=   0.8s\n",
      "[CV] criterion=entropy, max_features=sqrt, min_samples_leaf=2, n_estimators=100 \n",
      "[CV]  criterion=entropy, max_features=sqrt, min_samples_leaf=2, n_estimators=100, total=   0.8s\n",
      "[CV] criterion=entropy, max_features=sqrt, min_samples_leaf=2, n_estimators=100 \n",
      "[CV]  criterion=entropy, max_features=sqrt, min_samples_leaf=2, n_estimators=100, total=   0.8s\n",
      "[CV] criterion=entropy, max_features=sqrt, min_samples_leaf=2, n_estimators=120 \n",
      "[CV]  criterion=entropy, max_features=sqrt, min_samples_leaf=2, n_estimators=120, total=   1.0s\n",
      "[CV] criterion=entropy, max_features=sqrt, min_samples_leaf=2, n_estimators=120 \n",
      "[CV]  criterion=entropy, max_features=sqrt, min_samples_leaf=2, n_estimators=120, total=   0.9s\n",
      "[CV] criterion=entropy, max_features=sqrt, min_samples_leaf=2, n_estimators=120 \n",
      "[CV]  criterion=entropy, max_features=sqrt, min_samples_leaf=2, n_estimators=120, total=   0.9s\n",
      "[CV] criterion=entropy, max_features=sqrt, min_samples_leaf=2, n_estimators=120 \n",
      "[CV]  criterion=entropy, max_features=sqrt, min_samples_leaf=2, n_estimators=120, total=   0.9s\n",
      "[CV] criterion=entropy, max_features=sqrt, min_samples_leaf=2, n_estimators=120 \n",
      "[CV]  criterion=entropy, max_features=sqrt, min_samples_leaf=2, n_estimators=120, total=   1.0s\n"
     ]
    },
    {
     "name": "stderr",
     "output_type": "stream",
     "text": [
      "[Parallel(n_jobs=1)]: Done 120 out of 120 | elapsed:  1.1min finished\n"
     ]
    },
    {
     "data": {
      "text/plain": [
       "GridSearchCV(cv=5, estimator=RandomForestClassifier(),\n",
       "             param_grid={'criterion': ['gini', 'entropy'],\n",
       "                         'max_features': ['auto', 'sqrt'],\n",
       "                         'min_samples_leaf': [1, 2],\n",
       "                         'n_estimators': [30, 100, 120]},\n",
       "             scoring='accuracy', verbose=2)"
      ]
     },
     "execution_count": 149,
     "metadata": {},
     "output_type": "execute_result"
    }
   ],
   "source": [
    "from sklearn.model_selection import GridSearchCV\n",
    "\n",
    "rand_clas = RandomForestClassifier()\n",
    "\n",
    "grid = {\"criterion\": ['gini','entropy'],\n",
    "        \"max_features\": ['auto','sqrt'],\n",
    "        \"min_samples_leaf\": [1,2],\n",
    "        \"n_estimators\": [30,100,120]}\n",
    "\n",
    "rand_for_grid = GridSearchCV(estimator=rand_clas,\n",
    "                             param_grid=grid,\n",
    "                             cv=5,\n",
    "                             verbose=2,\n",
    "                             scoring='accuracy')\n",
    "\n",
    "rand_for_grid.fit(scaled_x_train,y_train)"
   ]
  },
  {
   "cell_type": "code",
   "execution_count": 162,
   "metadata": {},
   "outputs": [],
   "source": [
    "# Hyperparameter tuning for Support Vector"
   ]
  },
  {
   "cell_type": "code",
   "execution_count": 163,
   "metadata": {},
   "outputs": [
    {
     "name": "stdout",
     "output_type": "stream",
     "text": [
      "Fitting 5 folds for each of 24 candidates, totalling 120 fits\n",
      "[CV] C=1.0, decision_function_shape=ovo, gamma=scale, kernel=rbf .....\n",
      "[CV]  C=1.0, decision_function_shape=ovo, gamma=scale, kernel=rbf, total=   0.2s\n",
      "[CV] C=1.0, decision_function_shape=ovo, gamma=scale, kernel=rbf .....\n"
     ]
    },
    {
     "name": "stderr",
     "output_type": "stream",
     "text": [
      "[Parallel(n_jobs=1)]: Using backend SequentialBackend with 1 concurrent workers.\n",
      "[Parallel(n_jobs=1)]: Done   1 out of   1 | elapsed:    0.1s remaining:    0.0s\n"
     ]
    },
    {
     "name": "stdout",
     "output_type": "stream",
     "text": [
      "[CV]  C=1.0, decision_function_shape=ovo, gamma=scale, kernel=rbf, total=   0.1s\n",
      "[CV] C=1.0, decision_function_shape=ovo, gamma=scale, kernel=rbf .....\n",
      "[CV]  C=1.0, decision_function_shape=ovo, gamma=scale, kernel=rbf, total=   0.1s\n",
      "[CV] C=1.0, decision_function_shape=ovo, gamma=scale, kernel=rbf .....\n",
      "[CV]  C=1.0, decision_function_shape=ovo, gamma=scale, kernel=rbf, total=   0.1s\n",
      "[CV] C=1.0, decision_function_shape=ovo, gamma=scale, kernel=rbf .....\n",
      "[CV]  C=1.0, decision_function_shape=ovo, gamma=scale, kernel=rbf, total=   0.2s\n",
      "[CV] C=1.0, decision_function_shape=ovo, gamma=scale, kernel=sigmoid .\n",
      "[CV]  C=1.0, decision_function_shape=ovo, gamma=scale, kernel=sigmoid, total=   0.1s\n",
      "[CV] C=1.0, decision_function_shape=ovo, gamma=scale, kernel=sigmoid .\n",
      "[CV]  C=1.0, decision_function_shape=ovo, gamma=scale, kernel=sigmoid, total=   0.1s\n",
      "[CV] C=1.0, decision_function_shape=ovo, gamma=scale, kernel=sigmoid .\n",
      "[CV]  C=1.0, decision_function_shape=ovo, gamma=scale, kernel=sigmoid, total=   0.1s\n",
      "[CV] C=1.0, decision_function_shape=ovo, gamma=scale, kernel=sigmoid .\n",
      "[CV]  C=1.0, decision_function_shape=ovo, gamma=scale, kernel=sigmoid, total=   0.1s\n",
      "[CV] C=1.0, decision_function_shape=ovo, gamma=scale, kernel=sigmoid .\n",
      "[CV]  C=1.0, decision_function_shape=ovo, gamma=scale, kernel=sigmoid, total=   0.1s\n",
      "[CV] C=1.0, decision_function_shape=ovo, gamma=auto, kernel=rbf ......\n",
      "[CV]  C=1.0, decision_function_shape=ovo, gamma=auto, kernel=rbf, total=   0.2s\n",
      "[CV] C=1.0, decision_function_shape=ovo, gamma=auto, kernel=rbf ......\n",
      "[CV]  C=1.0, decision_function_shape=ovo, gamma=auto, kernel=rbf, total=   0.1s\n",
      "[CV] C=1.0, decision_function_shape=ovo, gamma=auto, kernel=rbf ......\n",
      "[CV]  C=1.0, decision_function_shape=ovo, gamma=auto, kernel=rbf, total=   0.2s\n",
      "[CV] C=1.0, decision_function_shape=ovo, gamma=auto, kernel=rbf ......\n",
      "[CV]  C=1.0, decision_function_shape=ovo, gamma=auto, kernel=rbf, total=   0.1s\n",
      "[CV] C=1.0, decision_function_shape=ovo, gamma=auto, kernel=rbf ......\n",
      "[CV]  C=1.0, decision_function_shape=ovo, gamma=auto, kernel=rbf, total=   0.1s\n",
      "[CV] C=1.0, decision_function_shape=ovo, gamma=auto, kernel=sigmoid ..\n",
      "[CV]  C=1.0, decision_function_shape=ovo, gamma=auto, kernel=sigmoid, total=   0.1s\n",
      "[CV] C=1.0, decision_function_shape=ovo, gamma=auto, kernel=sigmoid ..\n",
      "[CV]  C=1.0, decision_function_shape=ovo, gamma=auto, kernel=sigmoid, total=   0.1s\n",
      "[CV] C=1.0, decision_function_shape=ovo, gamma=auto, kernel=sigmoid ..\n",
      "[CV]  C=1.0, decision_function_shape=ovo, gamma=auto, kernel=sigmoid, total=   0.1s\n",
      "[CV] C=1.0, decision_function_shape=ovo, gamma=auto, kernel=sigmoid ..\n",
      "[CV]  C=1.0, decision_function_shape=ovo, gamma=auto, kernel=sigmoid, total=   0.1s\n",
      "[CV] C=1.0, decision_function_shape=ovo, gamma=auto, kernel=sigmoid ..\n",
      "[CV]  C=1.0, decision_function_shape=ovo, gamma=auto, kernel=sigmoid, total=   0.1s\n",
      "[CV] C=1.0, decision_function_shape=ovr, gamma=scale, kernel=rbf .....\n",
      "[CV]  C=1.0, decision_function_shape=ovr, gamma=scale, kernel=rbf, total=   0.1s\n",
      "[CV] C=1.0, decision_function_shape=ovr, gamma=scale, kernel=rbf .....\n",
      "[CV]  C=1.0, decision_function_shape=ovr, gamma=scale, kernel=rbf, total=   0.1s\n",
      "[CV] C=1.0, decision_function_shape=ovr, gamma=scale, kernel=rbf .....\n",
      "[CV]  C=1.0, decision_function_shape=ovr, gamma=scale, kernel=rbf, total=   0.1s\n",
      "[CV] C=1.0, decision_function_shape=ovr, gamma=scale, kernel=rbf .....\n",
      "[CV]  C=1.0, decision_function_shape=ovr, gamma=scale, kernel=rbf, total=   0.1s\n",
      "[CV] C=1.0, decision_function_shape=ovr, gamma=scale, kernel=rbf .....\n",
      "[CV]  C=1.0, decision_function_shape=ovr, gamma=scale, kernel=rbf, total=   0.1s\n",
      "[CV] C=1.0, decision_function_shape=ovr, gamma=scale, kernel=sigmoid .\n",
      "[CV]  C=1.0, decision_function_shape=ovr, gamma=scale, kernel=sigmoid, total=   0.1s\n",
      "[CV] C=1.0, decision_function_shape=ovr, gamma=scale, kernel=sigmoid .\n",
      "[CV]  C=1.0, decision_function_shape=ovr, gamma=scale, kernel=sigmoid, total=   0.1s\n",
      "[CV] C=1.0, decision_function_shape=ovr, gamma=scale, kernel=sigmoid .\n",
      "[CV]  C=1.0, decision_function_shape=ovr, gamma=scale, kernel=sigmoid, total=   0.1s\n",
      "[CV] C=1.0, decision_function_shape=ovr, gamma=scale, kernel=sigmoid .\n",
      "[CV]  C=1.0, decision_function_shape=ovr, gamma=scale, kernel=sigmoid, total=   0.1s\n",
      "[CV] C=1.0, decision_function_shape=ovr, gamma=scale, kernel=sigmoid .\n",
      "[CV]  C=1.0, decision_function_shape=ovr, gamma=scale, kernel=sigmoid, total=   0.1s\n",
      "[CV] C=1.0, decision_function_shape=ovr, gamma=auto, kernel=rbf ......\n",
      "[CV]  C=1.0, decision_function_shape=ovr, gamma=auto, kernel=rbf, total=   0.1s\n",
      "[CV] C=1.0, decision_function_shape=ovr, gamma=auto, kernel=rbf ......\n",
      "[CV]  C=1.0, decision_function_shape=ovr, gamma=auto, kernel=rbf, total=   0.1s\n",
      "[CV] C=1.0, decision_function_shape=ovr, gamma=auto, kernel=rbf ......\n",
      "[CV]  C=1.0, decision_function_shape=ovr, gamma=auto, kernel=rbf, total=   0.1s\n",
      "[CV] C=1.0, decision_function_shape=ovr, gamma=auto, kernel=rbf ......\n",
      "[CV]  C=1.0, decision_function_shape=ovr, gamma=auto, kernel=rbf, total=   0.1s\n",
      "[CV] C=1.0, decision_function_shape=ovr, gamma=auto, kernel=rbf ......\n",
      "[CV]  C=1.0, decision_function_shape=ovr, gamma=auto, kernel=rbf, total=   0.1s\n",
      "[CV] C=1.0, decision_function_shape=ovr, gamma=auto, kernel=sigmoid ..\n",
      "[CV]  C=1.0, decision_function_shape=ovr, gamma=auto, kernel=sigmoid, total=   0.1s\n",
      "[CV] C=1.0, decision_function_shape=ovr, gamma=auto, kernel=sigmoid ..\n",
      "[CV]  C=1.0, decision_function_shape=ovr, gamma=auto, kernel=sigmoid, total=   0.1s\n",
      "[CV] C=1.0, decision_function_shape=ovr, gamma=auto, kernel=sigmoid ..\n",
      "[CV]  C=1.0, decision_function_shape=ovr, gamma=auto, kernel=sigmoid, total=   0.1s\n",
      "[CV] C=1.0, decision_function_shape=ovr, gamma=auto, kernel=sigmoid ..\n",
      "[CV]  C=1.0, decision_function_shape=ovr, gamma=auto, kernel=sigmoid, total=   0.1s\n",
      "[CV] C=1.0, decision_function_shape=ovr, gamma=auto, kernel=sigmoid ..\n",
      "[CV]  C=1.0, decision_function_shape=ovr, gamma=auto, kernel=sigmoid, total=   0.1s\n",
      "[CV] C=2.0, decision_function_shape=ovo, gamma=scale, kernel=rbf .....\n",
      "[CV]  C=2.0, decision_function_shape=ovo, gamma=scale, kernel=rbf, total=   0.4s\n",
      "[CV] C=2.0, decision_function_shape=ovo, gamma=scale, kernel=rbf .....\n",
      "[CV]  C=2.0, decision_function_shape=ovo, gamma=scale, kernel=rbf, total=   0.1s\n",
      "[CV] C=2.0, decision_function_shape=ovo, gamma=scale, kernel=rbf .....\n",
      "[CV]  C=2.0, decision_function_shape=ovo, gamma=scale, kernel=rbf, total=   0.1s\n",
      "[CV] C=2.0, decision_function_shape=ovo, gamma=scale, kernel=rbf .....\n",
      "[CV]  C=2.0, decision_function_shape=ovo, gamma=scale, kernel=rbf, total=   0.1s\n",
      "[CV] C=2.0, decision_function_shape=ovo, gamma=scale, kernel=rbf .....\n",
      "[CV]  C=2.0, decision_function_shape=ovo, gamma=scale, kernel=rbf, total=   0.1s\n",
      "[CV] C=2.0, decision_function_shape=ovo, gamma=scale, kernel=sigmoid .\n",
      "[CV]  C=2.0, decision_function_shape=ovo, gamma=scale, kernel=sigmoid, total=   0.1s\n",
      "[CV] C=2.0, decision_function_shape=ovo, gamma=scale, kernel=sigmoid .\n",
      "[CV]  C=2.0, decision_function_shape=ovo, gamma=scale, kernel=sigmoid, total=   0.1s\n",
      "[CV] C=2.0, decision_function_shape=ovo, gamma=scale, kernel=sigmoid .\n",
      "[CV]  C=2.0, decision_function_shape=ovo, gamma=scale, kernel=sigmoid, total=   0.1s\n",
      "[CV] C=2.0, decision_function_shape=ovo, gamma=scale, kernel=sigmoid .\n",
      "[CV]  C=2.0, decision_function_shape=ovo, gamma=scale, kernel=sigmoid, total=   0.1s\n",
      "[CV] C=2.0, decision_function_shape=ovo, gamma=scale, kernel=sigmoid .\n",
      "[CV]  C=2.0, decision_function_shape=ovo, gamma=scale, kernel=sigmoid, total=   0.1s\n",
      "[CV] C=2.0, decision_function_shape=ovo, gamma=auto, kernel=rbf ......\n",
      "[CV]  C=2.0, decision_function_shape=ovo, gamma=auto, kernel=rbf, total=   0.1s\n",
      "[CV] C=2.0, decision_function_shape=ovo, gamma=auto, kernel=rbf ......\n",
      "[CV]  C=2.0, decision_function_shape=ovo, gamma=auto, kernel=rbf, total=   0.1s\n",
      "[CV] C=2.0, decision_function_shape=ovo, gamma=auto, kernel=rbf ......\n",
      "[CV]  C=2.0, decision_function_shape=ovo, gamma=auto, kernel=rbf, total=   0.1s\n",
      "[CV] C=2.0, decision_function_shape=ovo, gamma=auto, kernel=rbf ......\n",
      "[CV]  C=2.0, decision_function_shape=ovo, gamma=auto, kernel=rbf, total=   0.1s\n",
      "[CV] C=2.0, decision_function_shape=ovo, gamma=auto, kernel=rbf ......\n",
      "[CV]  C=2.0, decision_function_shape=ovo, gamma=auto, kernel=rbf, total=   0.1s\n",
      "[CV] C=2.0, decision_function_shape=ovo, gamma=auto, kernel=sigmoid ..\n",
      "[CV]  C=2.0, decision_function_shape=ovo, gamma=auto, kernel=sigmoid, total=   0.1s\n",
      "[CV] C=2.0, decision_function_shape=ovo, gamma=auto, kernel=sigmoid ..\n"
     ]
    },
    {
     "name": "stdout",
     "output_type": "stream",
     "text": [
      "[CV]  C=2.0, decision_function_shape=ovo, gamma=auto, kernel=sigmoid, total=   0.1s\n",
      "[CV] C=2.0, decision_function_shape=ovo, gamma=auto, kernel=sigmoid ..\n",
      "[CV]  C=2.0, decision_function_shape=ovo, gamma=auto, kernel=sigmoid, total=   0.1s\n",
      "[CV] C=2.0, decision_function_shape=ovo, gamma=auto, kernel=sigmoid ..\n",
      "[CV]  C=2.0, decision_function_shape=ovo, gamma=auto, kernel=sigmoid, total=   0.1s\n",
      "[CV] C=2.0, decision_function_shape=ovo, gamma=auto, kernel=sigmoid ..\n",
      "[CV]  C=2.0, decision_function_shape=ovo, gamma=auto, kernel=sigmoid, total=   0.1s\n",
      "[CV] C=2.0, decision_function_shape=ovr, gamma=scale, kernel=rbf .....\n",
      "[CV]  C=2.0, decision_function_shape=ovr, gamma=scale, kernel=rbf, total=   0.1s\n",
      "[CV] C=2.0, decision_function_shape=ovr, gamma=scale, kernel=rbf .....\n",
      "[CV]  C=2.0, decision_function_shape=ovr, gamma=scale, kernel=rbf, total=   0.1s\n",
      "[CV] C=2.0, decision_function_shape=ovr, gamma=scale, kernel=rbf .....\n",
      "[CV]  C=2.0, decision_function_shape=ovr, gamma=scale, kernel=rbf, total=   0.1s\n",
      "[CV] C=2.0, decision_function_shape=ovr, gamma=scale, kernel=rbf .....\n",
      "[CV]  C=2.0, decision_function_shape=ovr, gamma=scale, kernel=rbf, total=   0.1s\n",
      "[CV] C=2.0, decision_function_shape=ovr, gamma=scale, kernel=rbf .....\n",
      "[CV]  C=2.0, decision_function_shape=ovr, gamma=scale, kernel=rbf, total=   0.1s\n",
      "[CV] C=2.0, decision_function_shape=ovr, gamma=scale, kernel=sigmoid .\n",
      "[CV]  C=2.0, decision_function_shape=ovr, gamma=scale, kernel=sigmoid, total=   0.1s\n",
      "[CV] C=2.0, decision_function_shape=ovr, gamma=scale, kernel=sigmoid .\n",
      "[CV]  C=2.0, decision_function_shape=ovr, gamma=scale, kernel=sigmoid, total=   0.1s\n",
      "[CV] C=2.0, decision_function_shape=ovr, gamma=scale, kernel=sigmoid .\n",
      "[CV]  C=2.0, decision_function_shape=ovr, gamma=scale, kernel=sigmoid, total=   0.1s\n",
      "[CV] C=2.0, decision_function_shape=ovr, gamma=scale, kernel=sigmoid .\n",
      "[CV]  C=2.0, decision_function_shape=ovr, gamma=scale, kernel=sigmoid, total=   0.1s\n",
      "[CV] C=2.0, decision_function_shape=ovr, gamma=scale, kernel=sigmoid .\n",
      "[CV]  C=2.0, decision_function_shape=ovr, gamma=scale, kernel=sigmoid, total=   0.1s\n",
      "[CV] C=2.0, decision_function_shape=ovr, gamma=auto, kernel=rbf ......\n",
      "[CV]  C=2.0, decision_function_shape=ovr, gamma=auto, kernel=rbf, total=   0.1s\n",
      "[CV] C=2.0, decision_function_shape=ovr, gamma=auto, kernel=rbf ......\n",
      "[CV]  C=2.0, decision_function_shape=ovr, gamma=auto, kernel=rbf, total=   0.1s\n",
      "[CV] C=2.0, decision_function_shape=ovr, gamma=auto, kernel=rbf ......\n",
      "[CV]  C=2.0, decision_function_shape=ovr, gamma=auto, kernel=rbf, total=   0.1s\n",
      "[CV] C=2.0, decision_function_shape=ovr, gamma=auto, kernel=rbf ......\n",
      "[CV]  C=2.0, decision_function_shape=ovr, gamma=auto, kernel=rbf, total=   0.1s\n",
      "[CV] C=2.0, decision_function_shape=ovr, gamma=auto, kernel=rbf ......\n",
      "[CV]  C=2.0, decision_function_shape=ovr, gamma=auto, kernel=rbf, total=   0.1s\n",
      "[CV] C=2.0, decision_function_shape=ovr, gamma=auto, kernel=sigmoid ..\n",
      "[CV]  C=2.0, decision_function_shape=ovr, gamma=auto, kernel=sigmoid, total=   0.1s\n",
      "[CV] C=2.0, decision_function_shape=ovr, gamma=auto, kernel=sigmoid ..\n",
      "[CV]  C=2.0, decision_function_shape=ovr, gamma=auto, kernel=sigmoid, total=   0.1s\n",
      "[CV] C=2.0, decision_function_shape=ovr, gamma=auto, kernel=sigmoid ..\n",
      "[CV]  C=2.0, decision_function_shape=ovr, gamma=auto, kernel=sigmoid, total=   0.1s\n",
      "[CV] C=2.0, decision_function_shape=ovr, gamma=auto, kernel=sigmoid ..\n",
      "[CV]  C=2.0, decision_function_shape=ovr, gamma=auto, kernel=sigmoid, total=   0.1s\n",
      "[CV] C=2.0, decision_function_shape=ovr, gamma=auto, kernel=sigmoid ..\n",
      "[CV]  C=2.0, decision_function_shape=ovr, gamma=auto, kernel=sigmoid, total=   0.1s\n",
      "[CV] C=4.0, decision_function_shape=ovo, gamma=scale, kernel=rbf .....\n",
      "[CV]  C=4.0, decision_function_shape=ovo, gamma=scale, kernel=rbf, total=   0.3s\n",
      "[CV] C=4.0, decision_function_shape=ovo, gamma=scale, kernel=rbf .....\n",
      "[CV]  C=4.0, decision_function_shape=ovo, gamma=scale, kernel=rbf, total=   0.2s\n",
      "[CV] C=4.0, decision_function_shape=ovo, gamma=scale, kernel=rbf .....\n",
      "[CV]  C=4.0, decision_function_shape=ovo, gamma=scale, kernel=rbf, total=   0.1s\n",
      "[CV] C=4.0, decision_function_shape=ovo, gamma=scale, kernel=rbf .....\n",
      "[CV]  C=4.0, decision_function_shape=ovo, gamma=scale, kernel=rbf, total=   0.1s\n",
      "[CV] C=4.0, decision_function_shape=ovo, gamma=scale, kernel=rbf .....\n",
      "[CV]  C=4.0, decision_function_shape=ovo, gamma=scale, kernel=rbf, total=   0.2s\n",
      "[CV] C=4.0, decision_function_shape=ovo, gamma=scale, kernel=sigmoid .\n",
      "[CV]  C=4.0, decision_function_shape=ovo, gamma=scale, kernel=sigmoid, total=   0.1s\n",
      "[CV] C=4.0, decision_function_shape=ovo, gamma=scale, kernel=sigmoid .\n",
      "[CV]  C=4.0, decision_function_shape=ovo, gamma=scale, kernel=sigmoid, total=   0.1s\n",
      "[CV] C=4.0, decision_function_shape=ovo, gamma=scale, kernel=sigmoid .\n",
      "[CV]  C=4.0, decision_function_shape=ovo, gamma=scale, kernel=sigmoid, total=   0.2s\n",
      "[CV] C=4.0, decision_function_shape=ovo, gamma=scale, kernel=sigmoid .\n",
      "[CV]  C=4.0, decision_function_shape=ovo, gamma=scale, kernel=sigmoid, total=   0.1s\n",
      "[CV] C=4.0, decision_function_shape=ovo, gamma=scale, kernel=sigmoid .\n",
      "[CV]  C=4.0, decision_function_shape=ovo, gamma=scale, kernel=sigmoid, total=   0.1s\n",
      "[CV] C=4.0, decision_function_shape=ovo, gamma=auto, kernel=rbf ......\n",
      "[CV]  C=4.0, decision_function_shape=ovo, gamma=auto, kernel=rbf, total=   0.1s\n",
      "[CV] C=4.0, decision_function_shape=ovo, gamma=auto, kernel=rbf ......\n",
      "[CV]  C=4.0, decision_function_shape=ovo, gamma=auto, kernel=rbf, total=   0.1s\n",
      "[CV] C=4.0, decision_function_shape=ovo, gamma=auto, kernel=rbf ......\n",
      "[CV]  C=4.0, decision_function_shape=ovo, gamma=auto, kernel=rbf, total=   0.1s\n",
      "[CV] C=4.0, decision_function_shape=ovo, gamma=auto, kernel=rbf ......\n",
      "[CV]  C=4.0, decision_function_shape=ovo, gamma=auto, kernel=rbf, total=   0.1s\n",
      "[CV] C=4.0, decision_function_shape=ovo, gamma=auto, kernel=rbf ......\n",
      "[CV]  C=4.0, decision_function_shape=ovo, gamma=auto, kernel=rbf, total=   0.1s\n",
      "[CV] C=4.0, decision_function_shape=ovo, gamma=auto, kernel=sigmoid ..\n",
      "[CV]  C=4.0, decision_function_shape=ovo, gamma=auto, kernel=sigmoid, total=   0.1s\n",
      "[CV] C=4.0, decision_function_shape=ovo, gamma=auto, kernel=sigmoid ..\n",
      "[CV]  C=4.0, decision_function_shape=ovo, gamma=auto, kernel=sigmoid, total=   0.2s\n",
      "[CV] C=4.0, decision_function_shape=ovo, gamma=auto, kernel=sigmoid ..\n",
      "[CV]  C=4.0, decision_function_shape=ovo, gamma=auto, kernel=sigmoid, total=   0.1s\n",
      "[CV] C=4.0, decision_function_shape=ovo, gamma=auto, kernel=sigmoid ..\n",
      "[CV]  C=4.0, decision_function_shape=ovo, gamma=auto, kernel=sigmoid, total=   0.1s\n",
      "[CV] C=4.0, decision_function_shape=ovo, gamma=auto, kernel=sigmoid ..\n",
      "[CV]  C=4.0, decision_function_shape=ovo, gamma=auto, kernel=sigmoid, total=   0.1s\n",
      "[CV] C=4.0, decision_function_shape=ovr, gamma=scale, kernel=rbf .....\n",
      "[CV]  C=4.0, decision_function_shape=ovr, gamma=scale, kernel=rbf, total=   0.1s\n",
      "[CV] C=4.0, decision_function_shape=ovr, gamma=scale, kernel=rbf .....\n",
      "[CV]  C=4.0, decision_function_shape=ovr, gamma=scale, kernel=rbf, total=   0.1s\n",
      "[CV] C=4.0, decision_function_shape=ovr, gamma=scale, kernel=rbf .....\n",
      "[CV]  C=4.0, decision_function_shape=ovr, gamma=scale, kernel=rbf, total=   0.1s\n",
      "[CV] C=4.0, decision_function_shape=ovr, gamma=scale, kernel=rbf .....\n",
      "[CV]  C=4.0, decision_function_shape=ovr, gamma=scale, kernel=rbf, total=   0.1s\n",
      "[CV] C=4.0, decision_function_shape=ovr, gamma=scale, kernel=rbf .....\n",
      "[CV]  C=4.0, decision_function_shape=ovr, gamma=scale, kernel=rbf, total=   0.1s\n",
      "[CV] C=4.0, decision_function_shape=ovr, gamma=scale, kernel=sigmoid .\n",
      "[CV]  C=4.0, decision_function_shape=ovr, gamma=scale, kernel=sigmoid, total=   0.1s\n",
      "[CV] C=4.0, decision_function_shape=ovr, gamma=scale, kernel=sigmoid .\n",
      "[CV]  C=4.0, decision_function_shape=ovr, gamma=scale, kernel=sigmoid, total=   0.1s\n",
      "[CV] C=4.0, decision_function_shape=ovr, gamma=scale, kernel=sigmoid .\n",
      "[CV]  C=4.0, decision_function_shape=ovr, gamma=scale, kernel=sigmoid, total=   0.1s\n",
      "[CV] C=4.0, decision_function_shape=ovr, gamma=scale, kernel=sigmoid .\n",
      "[CV]  C=4.0, decision_function_shape=ovr, gamma=scale, kernel=sigmoid, total=   0.1s\n",
      "[CV] C=4.0, decision_function_shape=ovr, gamma=scale, kernel=sigmoid .\n",
      "[CV]  C=4.0, decision_function_shape=ovr, gamma=scale, kernel=sigmoid, total=   0.1s\n",
      "[CV] C=4.0, decision_function_shape=ovr, gamma=auto, kernel=rbf ......\n"
     ]
    },
    {
     "name": "stdout",
     "output_type": "stream",
     "text": [
      "[CV]  C=4.0, decision_function_shape=ovr, gamma=auto, kernel=rbf, total=   0.1s\n",
      "[CV] C=4.0, decision_function_shape=ovr, gamma=auto, kernel=rbf ......\n",
      "[CV]  C=4.0, decision_function_shape=ovr, gamma=auto, kernel=rbf, total=   0.1s\n",
      "[CV] C=4.0, decision_function_shape=ovr, gamma=auto, kernel=rbf ......\n",
      "[CV]  C=4.0, decision_function_shape=ovr, gamma=auto, kernel=rbf, total=   0.1s\n",
      "[CV] C=4.0, decision_function_shape=ovr, gamma=auto, kernel=rbf ......\n",
      "[CV]  C=4.0, decision_function_shape=ovr, gamma=auto, kernel=rbf, total=   0.1s\n",
      "[CV] C=4.0, decision_function_shape=ovr, gamma=auto, kernel=rbf ......\n",
      "[CV]  C=4.0, decision_function_shape=ovr, gamma=auto, kernel=rbf, total=   0.1s\n",
      "[CV] C=4.0, decision_function_shape=ovr, gamma=auto, kernel=sigmoid ..\n",
      "[CV]  C=4.0, decision_function_shape=ovr, gamma=auto, kernel=sigmoid, total=   0.1s\n",
      "[CV] C=4.0, decision_function_shape=ovr, gamma=auto, kernel=sigmoid ..\n",
      "[CV]  C=4.0, decision_function_shape=ovr, gamma=auto, kernel=sigmoid, total=   0.1s\n",
      "[CV] C=4.0, decision_function_shape=ovr, gamma=auto, kernel=sigmoid ..\n",
      "[CV]  C=4.0, decision_function_shape=ovr, gamma=auto, kernel=sigmoid, total=   0.1s\n",
      "[CV] C=4.0, decision_function_shape=ovr, gamma=auto, kernel=sigmoid ..\n",
      "[CV]  C=4.0, decision_function_shape=ovr, gamma=auto, kernel=sigmoid, total=   0.1s\n",
      "[CV] C=4.0, decision_function_shape=ovr, gamma=auto, kernel=sigmoid ..\n",
      "[CV]  C=4.0, decision_function_shape=ovr, gamma=auto, kernel=sigmoid, total=   0.1s\n"
     ]
    },
    {
     "name": "stderr",
     "output_type": "stream",
     "text": [
      "[Parallel(n_jobs=1)]: Done 120 out of 120 | elapsed:   15.5s finished\n"
     ]
    },
    {
     "data": {
      "text/plain": [
       "GridSearchCV(cv=5, estimator=SVC(),\n",
       "             param_grid={'C': [1.0, 2.0, 4.0],\n",
       "                         'decision_function_shape': ['ovo', 'ovr'],\n",
       "                         'gamma': ['scale', 'auto'],\n",
       "                         'kernel': ['rbf', 'sigmoid']},\n",
       "             scoring='accuracy', verbose=2)"
      ]
     },
     "execution_count": 163,
     "metadata": {},
     "output_type": "execute_result"
    }
   ],
   "source": [
    "from sklearn.model_selection import GridSearchCV\n",
    "\n",
    "sv_clas = SVC()\n",
    "\n",
    "svgrid = {\"C\": [1.0,2.0,4.0],\n",
    "        \"decision_function_shape\": ['ovo','ovr'],\n",
    "        \"gamma\": ['scale','auto'],\n",
    "        \"kernel\": ['rbf','sigmoid']}\n",
    "\n",
    "sv_for_grid = GridSearchCV(estimator=sv_clas,\n",
    "                             param_grid=svgrid,\n",
    "                             cv=5,\n",
    "                             verbose=2,\n",
    "                             scoring='accuracy')\n",
    "\n",
    "sv_for_grid.fit(scaled_x_train,y_train)"
   ]
  },
  {
   "cell_type": "code",
   "execution_count": 170,
   "metadata": {},
   "outputs": [],
   "source": [
    "rand_pred = rand_for_grid.predict(scaled_x_test)\n",
    "svc_pred = sv_for_grid.predict(scaled_x_test)"
   ]
  },
  {
   "cell_type": "code",
   "execution_count": 172,
   "metadata": {},
   "outputs": [],
   "source": [
    "# Evaluate the performance"
   ]
  },
  {
   "cell_type": "code",
   "execution_count": 193,
   "metadata": {},
   "outputs": [
    {
     "data": {
      "text/plain": [
       "Text(294.49090909090904, 0.5, 'True Label')"
      ]
     },
     "execution_count": 193,
     "metadata": {},
     "output_type": "execute_result"
    },
    {
     "data": {
      "image/png": "[encoded data removed]",
      "text/plain": [
       "<Figure size 576x216 with 2 Axes>"
      ]
     },
     "metadata": {
      "needs_background": "light"
     },
     "output_type": "display_data"
    }
   ],
   "source": [
    "from sklearn.metrics import confusion_matrix, classification_report\n",
    "\n",
    "rand_cm = confusion_matrix(y_test,rand_pred)\n",
    "svc_cm = confusion_matrix(y_test,svc_pred)\n",
    "\n",
    "fig, ax = plt.subplots(1,2,figsize=(8,3))\n",
    "sns.heatmap(rand_cm,ax=ax[0],annot=True,cbar=False,fmt='.2f',cmap='viridis')\n",
    "ax[0].set_title('Random Forest')\n",
    "ax[0].set_xlabel('Predicted Label')\n",
    "ax[0].set_ylabel('True Label')\n",
    "\n",
    "sns.heatmap(svc_cm,ax=ax[1],annot=True,cbar=False,fmt='.2f',cmap='viridis')\n",
    "ax[1].set_title('Support Vector')\n",
    "ax[1].set_xlabel('Predicted Label')\n",
    "ax[1].set_ylabel('True Label')"
   ]
  },
  {
   "cell_type": "code",
   "execution_count": 194,
   "metadata": {},
   "outputs": [
    {
     "name": "stdout",
     "output_type": "stream",
     "text": [
      "              precision    recall  f1-score   support\n",
      "\n",
      "           0       0.69      0.89      0.78       412\n",
      "           1       0.65      0.33      0.44       244\n",
      "\n",
      "    accuracy                           0.68       656\n",
      "   macro avg       0.67      0.61      0.61       656\n",
      "weighted avg       0.68      0.68      0.65       656\n",
      "\n",
      "\n",
      "\n",
      "              precision    recall  f1-score   support\n",
      "\n",
      "           0       0.71      0.82      0.76       412\n",
      "           1       0.58      0.43      0.49       244\n",
      "\n",
      "    accuracy                           0.67       656\n",
      "   macro avg       0.64      0.62      0.62       656\n",
      "weighted avg       0.66      0.67      0.66       656\n",
      "\n"
     ]
    }
   ],
   "source": [
    "rand_cf = classification_report(y_test,rand_pred)\n",
    "svc_cf = classification_report(y_test,svc_pred)\n",
    "\n",
    "print(rand_cf)\n",
    "print('\\n')\n",
    "print(svc_cf)"
   ]
  },
  {
   "cell_type": "code",
   "execution_count": 223,
   "metadata": {},
   "outputs": [
    {
     "data": {
      "text/plain": [
       "Text(0.5, 1.0, 'ROC Curve')"
      ]
     },
     "execution_count": 223,
     "metadata": {},
     "output_type": "execute_result"
    },
    {
     "data": {
      "image/png": "[encoded data removed]",
      "text/plain": [
       "<Figure size 432x288 with 1 Axes>"
      ]
     },
     "metadata": {
      "needs_background": "light"
     },
     "output_type": "display_data"
    }
   ],
   "source": [
    "#Plot Roc curve\n",
    "from sklearn.metrics import roc_curve\n",
    "\n",
    "y_score = rand_for_grid.predict_proba(scaled_x_test)\n",
    "y_proba = y_score[:,1]\n",
    "fpr_forest,tpr_forest,thres_forest = roc_curve(y_test,y_proba)\n",
    "\n",
    "plt.plot(fpr_forest,tpr_forest)\n",
    "plt.plot([0,1],[0,1],'k--')\n",
    "plt.xlabel('False Positive Rate',fontsize=14)\n",
    "plt.ylabel('True Positive Rate',fontsize=14)\n",
    "plt.title('ROC Curve',fontsize=15)"
   ]
  },
  {
   "cell_type": "code",
   "execution_count": 230,
   "metadata": {},
   "outputs": [
    {
     "data": {
      "text/plain": [
       "Text(0.5, 1.0, 'Precision Vs Recall')"
      ]
     },
     "execution_count": 230,
     "metadata": {},
     "output_type": "execute_result"
    },
    {
     "data": {
      "image/png": "[encoded data removed]",
      "text/plain": [
       "<Figure size 432x288 with 1 Axes>"
      ]
     },
     "metadata": {
      "needs_background": "light"
     },
     "output_type": "display_data"
    }
   ],
   "source": [
    "from sklearn.metrics import precision_recall_curve\n",
    "\n",
    "precision, recall, threshold = precision_recall_curve(y_test,y_proba)\n",
    "\n",
    "plt.plot(recall,precision)\n",
    "plt.xlabel('Recall',fontsize=14)\n",
    "plt.ylabel('Precision',fontsize=14)\n",
    "plt.title('Precision Vs Recall',fontsize=15)"
   ]
  },
  {
   "cell_type": "code",
   "execution_count": null,
   "metadata": {},
   "outputs": [],
   "source": [
    "# Overall result does not look good. "
   ]
  }
 ],
 "metadata": {
  "kernelspec": {
   "display_name": "Python 3",
   "language": "python",
   "name": "python3"
  },
  "language_info": {
   "codemirror_mode": {
    "name": "ipython",
    "version": 3
   },
   "file_extension": ".py",
   "mimetype": "text/x-python",
   "name": "python",
   "nbconvert_exporter": "python",
   "pygments_lexer": "ipython3",
   "version": "3.8.5"
  }
 },
 "nbformat": 4,
 "nbformat_minor": 4
}
